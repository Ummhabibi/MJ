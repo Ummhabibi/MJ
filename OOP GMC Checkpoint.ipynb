{
 "cells": [
  {
   "cell_type": "code",
   "execution_count": 5,
   "id": "d21d19db-2f0b-418f-8a20-f09713218b68",
   "metadata": {},
   "outputs": [
    {
     "data": {
      "text/plain": [
       "<_io.TextIOWrapper name='bank_account.py' mode='w' encoding='cp1252'>"
      ]
     },
     "execution_count": 5,
     "metadata": {},
     "output_type": "execute_result"
    }
   ],
   "source": [
    "open('bank_account.py', 'w')"
   ]
  },
  {
   "cell_type": "code",
   "execution_count": 6,
   "id": "0909c271-a6dd-4f1c-b776-8a2ad17070d6",
   "metadata": {},
   "outputs": [
    {
     "name": "stdout",
     "output_type": "stream",
     "text": [
      "Deposited 500.00. New balance is 500.00.\n",
      "Withdrew 200.00. New balance is 300.00.\n",
      "Current balance is 300.00\n"
     ]
    }
   ],
   "source": [
    "class Account:\n",
    "    def __init__(self, account_number: str, account_holder: str, account_balance: float = 0.0):\n",
    "        self.account_number = account_number\n",
    "        self.account_holder = account_holder\n",
    "        self._account_balance = account_balance  # Protected attribute\n",
    "\n",
    "    def deposit(self, amount: float):\n",
    "        self._account_balance += amount\n",
    "        print(f\"Deposited {amount:.2f}. New balance is {self._account_balance:.2f}.\")\n",
    "\n",
    "    def withdraw(self, amount: float):\n",
    "        if self._account_balance >= amount:\n",
    "            self._account_balance -= amount\n",
    "            print(f\"Withdrew {amount:.2f}. New balance is {self._account_balance:.2f}.\")\n",
    "        else:\n",
    "            print(f\"Insufficient funds. Current balance is {self._account_balance:.2f}.\")\n",
    "\n",
    "    def check_balance(self):\n",
    "        return self._account_balance\n",
    "\n",
    "# Create an instance and use methods\n",
    "my_account = Account(account_number=\"123456789\", account_holder=\"John Doe\")\n",
    "\n",
    "my_account.deposit(500.0)  # Deposit money\n",
    "my_account.withdraw(200.0)  # Withdraw money\n",
    "print(f\"Current balance is {my_account.check_balance():.2f}\")  # Check balance\n"
   ]
  },
  {
   "cell_type": "code",
   "execution_count": 9,
   "id": "94d51ce2-ff08-4cf8-bec7-8e1a2cdf2696",
   "metadata": {},
   "outputs": [
    {
     "name": "stdout",
     "output_type": "stream",
     "text": [
      "Deposited 1000.00. New balance is 1000.00.\n",
      "Withdrew 900.00. New balance is 100.00.\n",
      "Current balance is 100.00\n"
     ]
    }
   ],
   "source": [
    "bintjm_account = Account(account_number=\"023156789\", account_holder=\"Jane Doe\")\n",
    "bintjm_account.deposit(1000.0)  # Deposit money\n",
    "bintjm_account.withdraw(900.0)  # Withdraw money\n",
    "print(f\"Current balance is {bintjm_account.check_balance():.2f}\")  # Check balance\n",
    "                         "
   ]
  },
  {
   "cell_type": "code",
   "execution_count": 11,
   "id": "d80f0d1e-5d29-4f88-b6ae-30c82b62ceed",
   "metadata": {},
   "outputs": [],
   "source": [
    "bank_code = \"\"\"\n",
    "class Account:\n",
    "    def __init__(self, account_number: str, account_holder: str, account_balance: float = 0.0):\n",
    "        self.account_number = account_number\n",
    "        self.account_holder = account_holder\n",
    "        self._account_balance = account_balance  # Protected attribute\n",
    "\n",
    "    def deposit(self, amount: float):\n",
    "        self._account_balance += amount\n",
    "        print(f\"Deposited {amount:.2f}. New balance is {self._account_balance:.2f}.\")\n",
    "\n",
    "    def withdraw(self, amount: float):\n",
    "        if self._account_balance >= amount:\n",
    "            self._account_balance -= amount\n",
    "            print(f\"Withdrew {amount:.2f}. New balance is {self._account_balance:.2f}.\")\n",
    "        else:\n",
    "            print(f\"Insufficient funds. Current balance is {self._account_balance:.2f}.\")\n",
    "\n",
    "    def check_balance(self):\n",
    "        return self._account_balance\n",
    "\n",
    "# Create an instance and use methods\n",
    "my_account = Account(account_number=\"123456789\", account_holder=\"John Doe\")\n",
    "\n",
    "my_account.deposit(500.0)  # Deposit money\n",
    "my_account.withdraw(200.0)  # Withdraw money\n",
    "print(f\"Current balance is {my_account.check_balance():.2f}\")  # Check balance\n",
    "\"\"\"\n"
   ]
  },
  {
   "cell_type": "code",
   "execution_count": 12,
   "id": "6cf119d6-8bc5-4a38-b85c-a9868c17b636",
   "metadata": {},
   "outputs": [],
   "source": [
    "with open('bank_account.py', 'w') as file:\n",
    "    file.write(bank_code)\n"
   ]
  }
 ],
 "metadata": {
  "kernelspec": {
   "display_name": "Python 3 (ipykernel)",
   "language": "python",
   "name": "python3"
  },
  "language_info": {
   "codemirror_mode": {
    "name": "ipython",
    "version": 3
   },
   "file_extension": ".py",
   "mimetype": "text/x-python",
   "name": "python",
   "nbconvert_exporter": "python",
   "pygments_lexer": "ipython3",
   "version": "3.11.7"
  }
 },
 "nbformat": 4,
 "nbformat_minor": 5
}
