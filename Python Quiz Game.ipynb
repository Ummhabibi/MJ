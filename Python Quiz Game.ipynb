{
 "cells": [
  {
   "cell_type": "code",
   "execution_count": 2,
   "id": "81a6ac2c-4e0b-43db-8a89-40e423d49f95",
   "metadata": {},
   "outputs": [
    {
     "name": "stdout",
     "output_type": "stream",
     "text": [
      "What is the capital of France?\n",
      "A. Paris\n",
      "B. London\n",
      "C. Rome\n",
      "D. Madrid\n"
     ]
    },
    {
     "name": "stdin",
     "output_type": "stream",
     "text": [
      "Enter your answer (A/B/C/D):  B\n"
     ]
    },
    {
     "name": "stdout",
     "output_type": "stream",
     "text": [
      "Incorrect!\n",
      "Which is the largest planet?\n",
      "A. Earth\n",
      "B. Mars\n",
      "C. Jupiter\n",
      "D. Saturn\n"
     ]
    },
    {
     "name": "stdin",
     "output_type": "stream",
     "text": [
      "Enter your answer (A/B/C/D):  d\n"
     ]
    },
    {
     "name": "stdout",
     "output_type": "stream",
     "text": [
      "Incorrect!\n"
     ]
    }
   ],
   "source": [
    "#User Interraction\n",
    "print(\"Welcome to the Quiz!\")\n",
    "print(\"Answer the following questions by selecting the correct option (A/B/C/D).\")\n",
    "\n",
    "#Q&A Handling\n",
    "questions = [\n",
    "    {\"question\": \"What is the capital of France?\", \"options\": [\"A. Paris\", \"B. London\", \"C. Rome\", \"D. Madrid\"], \"answer\": \"A\"},\n",
    "    {\"question\": \"Which is the largest planet?\", \"options\": [\"A. Earth\", \"B. Mars\", \"C. Jupiter\", \"D. Saturn\"], \"answer\": \"C\"},\n",
    "    {\"question\": \"Which planet is known as the Red Planet ?\", \"options\": [\"A. Earth\", \"B. Mars\", \"C. Jupiter\", \"D. Saturn\"], \"answer\": \"B\"}\n",
    "    {\"question\": \"Who wrote the play Romeo and Juliet ?\", \"options\": [\"A. William Shakespeare\", \"B. Bob Dylan\", \"C. Bruce Lee\", \"D. James Bond\"], \"answer\": \"A\"}\n",
    "]\n",
    "\n",
    "\n",
    "for q in questions:\n",
    "    print(q[\"question\"])\n",
    "    for option in q[\"options\"]:\n",
    "        print(option)\n",
    "    user_answer = input(\"Enter your answer (A/B/C/D): \").upper()\n",
    "    if user_answer == q[\"answer\"]:\n",
    "        print(\"Correct!\")\n",
    "    else:\n",
    "        print(\"Incorrect!\")\n"
   ]
  },
  {
   "cell_type": "code",
   "execution_count": 3,
   "id": "c1b2de9d-51b4-4e61-b279-cb39e91dc424",
   "metadata": {},
   "outputs": [
    {
     "name": "stdout",
     "output_type": "stream",
     "text": [
      "Your final score is 0/2\n"
     ]
    }
   ],
   "source": [
    "#Score Tracking\n",
    "score = 0\n",
    "for q in questions:\n",
    "    # (Display question and capture answer as before)\n",
    "    if user_answer == q[\"answer\"]:\n",
    "        score += 1\n",
    "print(f\"Your final score is {score}/{len(questions)}\")\n"
   ]
  },
  {
   "cell_type": "code",
   "execution_count": 5,
   "id": "91bc5d67-5efb-47e0-a036-726d15091ab7",
   "metadata": {},
   "outputs": [],
   "source": [
    "#Randomization\n",
    "import random\n",
    "random.shuffle(questions)\n"
   ]
  },
  {
   "cell_type": "code",
   "execution_count": 6,
   "id": "655868a6-c66e-4a4c-944f-b082036ca5ff",
   "metadata": {},
   "outputs": [
    {
     "name": "stdout",
     "output_type": "stream",
     "text": [
      "Welcome to the Quiz!\n",
      "Answer the following questions by selecting the correct option (A/B/C/D).\n"
     ]
    }
   ],
   "source": [
    "#User interaction\n"
   ]
  },
  {
   "cell_type": "code",
   "execution_count": 7,
   "id": "45856120-b30f-4245-8e47-b3e08b6564b5",
   "metadata": {},
   "outputs": [
    {
     "name": "stdout",
     "output_type": "stream",
     "text": [
      "What is the capital of France?\n",
      "A. Paris\n",
      "B. London\n",
      "C. Rome\n",
      "D. Madrid\n",
      "Time's up!\n"
     ]
    },
    {
     "name": "stdin",
     "output_type": "stream",
     "text": [
      "Enter your answer (A/B/C/D):  a\n"
     ]
    },
    {
     "name": "stdout",
     "output_type": "stream",
     "text": [
      "Correct!\n",
      "Which is the largest planet?\n",
      "A. Earth\n",
      "B. Mars\n",
      "C. Jupiter\n",
      "D. Saturn\n",
      "Time's up!\n"
     ]
    },
    {
     "name": "stdin",
     "output_type": "stream",
     "text": [
      "Enter your answer (A/B/C/D):  b\n"
     ]
    },
    {
     "name": "stdout",
     "output_type": "stream",
     "text": [
      "Incorrect!\n"
     ]
    }
   ],
   "source": [
    "import threading\n",
    "\n",
    "def ask_question_with_timer(question, options, correct_answer, time_limit=10):\n",
    "    timer = threading.Timer(time_limit, print, [\"Time's up!\"])\n",
    "    timer.start()\n",
    "    print(question)\n",
    "    for option in options:\n",
    "        print(option)\n",
    "    user_answer = input(\"Enter your answer (A/B/C/D): \").upper()\n",
    "    timer.cancel()\n",
    "    if user_answer == correct_answer:\n",
    "        print(\"Correct!\")\n",
    "        return True\n",
    "    else:\n",
    "        print(\"Incorrect!\")\n",
    "        return False\n",
    "\n",
    "for q in questions:\n",
    "    if not ask_question_with_timer(q[\"question\"], q[\"options\"], q[\"answer\"]):\n",
    "        # Handle incorrect or timeout\n",
    "        pass\n"
   ]
  },
  {
   "cell_type": "code",
   "execution_count": 8,
   "id": "f7860ced-9b5d-41dd-bc31-aa17f801377f",
   "metadata": {},
   "outputs": [
    {
     "name": "stdout",
     "output_type": "stream",
     "text": [
      "High Scores:\n",
      "1. 0\n"
     ]
    }
   ],
   "source": [
    "#Storing and Displaying High Scores\n",
    "\n",
    "def save_high_score(score, file_name=\"high_scores.txt\"):\n",
    "    with open(file_name, \"a\") as file:\n",
    "        file.write(f\"{score}\\n\")\n",
    "\n",
    "def display_high_scores(file_name=\"high_scores.txt\"):\n",
    "    print(\"High Scores:\")\n",
    "    with open(file_name, \"r\") as file:\n",
    "        scores = file.readlines()\n",
    "        scores = sorted([int(s.strip()) for s in scores], reverse=True)\n",
    "        for idx, score in enumerate(scores[:5]):\n",
    "            print(f\"{idx + 1}. {score}\")\n",
    "\n",
    "# After quiz ends\n",
    "save_high_score(score)\n",
    "display_high_scores()\n"
   ]
  },
  {
   "cell_type": "code",
   "execution_count": 9,
   "id": "7e521a62-5717-41c4-8158-37441335d4b0",
   "metadata": {},
   "outputs": [
    {
     "ename": "KeyboardInterrupt",
     "evalue": "",
     "output_type": "error",
     "traceback": [
      "\u001b[1;31m---------------------------------------------------------------------------\u001b[0m",
      "\u001b[1;31mKeyboardInterrupt\u001b[0m                         Traceback (most recent call last)",
      "Cell \u001b[1;32mIn[9], line 55\u001b[0m\n\u001b[0;32m     53\u001b[0m root \u001b[38;5;241m=\u001b[39m tk\u001b[38;5;241m.\u001b[39mTk()\n\u001b[0;32m     54\u001b[0m app \u001b[38;5;241m=\u001b[39m QuizApp(root)\n\u001b[1;32m---> 55\u001b[0m root\u001b[38;5;241m.\u001b[39mmainloop()\n",
      "File \u001b[1;32m~\\anaconda3\\Lib\\tkinter\\__init__.py:1485\u001b[0m, in \u001b[0;36mMisc.mainloop\u001b[1;34m(self, n)\u001b[0m\n\u001b[0;32m   1483\u001b[0m \u001b[38;5;28;01mdef\u001b[39;00m \u001b[38;5;21mmainloop\u001b[39m(\u001b[38;5;28mself\u001b[39m, n\u001b[38;5;241m=\u001b[39m\u001b[38;5;241m0\u001b[39m):\n\u001b[0;32m   1484\u001b[0m \u001b[38;5;250m    \u001b[39m\u001b[38;5;124;03m\"\"\"Call the mainloop of Tk.\"\"\"\u001b[39;00m\n\u001b[1;32m-> 1485\u001b[0m     \u001b[38;5;28mself\u001b[39m\u001b[38;5;241m.\u001b[39mtk\u001b[38;5;241m.\u001b[39mmainloop(n)\n",
      "\u001b[1;31mKeyboardInterrupt\u001b[0m: "
     ]
    }
   ],
   "source": [
    "#Creating More Interactive Experience\n",
    "import tkinter as tk\n",
    "import random\n",
    "\n",
    "# Sample questions for demonstration\n",
    "questions = [\n",
    "    {\"question\": \"What is the capital of France?\", \"options\": [\"Paris\", \"London\", \"Rome\", \"Madrid\"], \"answer\": \"Paris\"},\n",
    "    {\"question\": \"Which is the largest planet?\", \"options\": [\"Earth\", \"Mars\", \"Jupiter\", \"Saturn\"], \"answer\": \"Jupiter\"},\n",
    "    {\"question\": \"Which planet is known as the Red Planet ?\", \"options\": [\"A. Earth\", \"B. Mars\", \"C. Jupiter\", \"D. Saturn\"], \"answer\": \"B\"}\n",
    "    {\"question\": \"Who wrote the play Romeo and Juliet ?\", \"options\": [\"A. William Shakespeare\", \"B. Bob Dylan\", \"C. Bruce Lee\", \"D. James Bond\"], \"answer\": \"A\"}\n",
    "\n",
    "]\n",
    "\n",
    "class QuizApp:\n",
    "    def __init__(self, master):\n",
    "        self.master = master\n",
    "        self.master.title(\"Quiz Game\")\n",
    "        self.score = 0\n",
    "        self.question_index = 0\n",
    "\n",
    "        self.question_label = tk.Label(master, text=\"\", font=(\"Arial\", 16))\n",
    "        self.question_label.pack(pady=20)\n",
    "\n",
    "        self.buttons = []\n",
    "        for i in range(4):\n",
    "            button = tk.Button(master, text=\"\", font=(\"Arial\", 14), command=lambda i=i: self.check_answer(i))\n",
    "            button.pack(pady=5)\n",
    "            self.buttons.append(button)\n",
    "\n",
    "        self.next_question()\n",
    "\n",
    "    def next_question(self):\n",
    "        if self.question_index < len(questions):\n",
    "            q = questions[self.question_index]\n",
    "            self.question_label.config(text=q[\"question\"])\n",
    "            random.shuffle(q[\"options\"])\n",
    "            for i, option in enumerate(q[\"options\"]):\n",
    "                self.buttons[i].config(text=option)\n",
    "        else:\n",
    "            self.end_quiz()\n",
    "\n",
    "    def check_answer(self, i):\n",
    "        if self.buttons[i].cget(\"text\") == questions[self.question_index][\"answer\"]:\n",
    "            self.score += 1\n",
    "        self.question_index += 1\n",
    "        self.next_question()\n",
    "\n",
    "    def end_quiz(self):\n",
    "        for button in self.buttons:\n",
    "            button.pack_forget()\n",
    "        self.question_label.config(text=f\"Quiz Over! Your score: {self.score}/{len(questions)}\")\n",
    "        # Save and display high scores\n",
    "        save_high_score(self.score)\n",
    "        display_high_scores()\n",
    "\n",
    "root = tk.Tk()\n",
    "app = QuizApp(root)\n",
    "root.mainloop()\n"
   ]
  }
 ],
 "metadata": {
  "kernelspec": {
   "display_name": "Python 3 (ipykernel)",
   "language": "python",
   "name": "python3"
  },
  "language_info": {
   "codemirror_mode": {
    "name": "ipython",
    "version": 3
   },
   "file_extension": ".py",
   "mimetype": "text/x-python",
   "name": "python",
   "nbconvert_exporter": "python",
   "pygments_lexer": "ipython3",
   "version": "3.11.7"
  }
 },
 "nbformat": 4,
 "nbformat_minor": 5
}
