{
 "cells": [
  {
   "cell_type": "code",
   "execution_count": null,
   "id": "683012f7-6a29-4677-bc62-f7991d70faaa",
   "metadata": {},
   "outputs": [
    {
     "name": "stdout",
     "output_type": "stream",
     "text": [
      "Two Digit Calculator\n",
      "\n"
     ]
    },
    {
     "name": "stdin",
     "output_type": "stream",
     "text": [
      "Enter first number: \n",
      " 7\n"
     ]
    },
    {
     "name": "stdout",
     "output_type": "stream",
     "text": [
      "+ add\n",
      "- subtract\n",
      "* multiply\n",
      "/ divide\n"
     ]
    },
    {
     "name": "stdin",
     "output_type": "stream",
     "text": [
      "Select an operation: \n",
      " +\n",
      "Enter second number: \n",
      " 9\n"
     ]
    },
    {
     "name": "stdout",
     "output_type": "stream",
     "text": [
      "7.0 + 9.0 = 16.0\n"
     ]
    },
    {
     "name": "stdin",
     "output_type": "stream",
     "text": [
      "Enter 'y' to proceed with 16.0, or 'n' to start new calculation: \n",
      " y\n",
      "Select an operation: \n",
      " /\n",
      "Enter second number: \n",
      " 6\n"
     ]
    },
    {
     "name": "stdout",
     "output_type": "stream",
     "text": [
      "16.0 / 6.0 = 2.6666666666666665\n"
     ]
    },
    {
     "name": "stdin",
     "output_type": "stream",
     "text": [
      "Enter 'y' to proceed with 2.6666666666666665, or 'n' to start new calculation: \n",
      " n\n"
     ]
    },
    {
     "name": "stdout",
     "output_type": "stream",
     "text": [
      "Two Digit Calculator\n",
      "\n"
     ]
    }
   ],
   "source": [
    "def add(a, b):\n",
    "    return a + b\n",
    "\n",
    "def subtract(a, b):\n",
    "    return a - b\n",
    "\n",
    "def multiply(a, b):\n",
    "    return a * b\n",
    "\n",
    "def divide(a, b):\n",
    "    if b == 0:\n",
    "        return 'Uh-oh! Impossible Division'\n",
    "    return a / b\n",
    "\n",
    "def calculator():\n",
    "    print('Two Digit Calculator')\n",
    "    print()\n",
    "    x1 = float(input('Enter first number: \\n'))\n",
    "\n",
    "    operations = {'+': add, '-': subtract, '*': multiply, '/': divide}\n",
    "    for key in operations:\n",
    "        print(key, operations[key].__name__)\n",
    "\n",
    "    continue_calc = True\n",
    "\n",
    "    while continue_calc:\n",
    "        op_sym = input('Select an operation: \\n')\n",
    "        if op_sym not in operations:\n",
    "            print('Invalid Selection, Do Try Again')\n",
    "            continue\n",
    "\n",
    "        x2 = float(input('Enter second number: \\n'))\n",
    "        calc_function = operations[op_sym]\n",
    "        result = calc_function(x1, x2)\n",
    "\n",
    "        if op_sym == '/' and x2 == 0:\n",
    "            print('Error! Impossible Division')\n",
    "        else:\n",
    "            print(f'{x1} {op_sym} {x2} = {result}')\n",
    "\n",
    "        next_calc = input(f\"Enter 'y' to proceed with {result}, or 'n' to start new calculation: \\n\").lower()\n",
    "        if next_calc == 'y':\n",
    "            x1 = result\n",
    "        else:\n",
    "            continue_calc = False\n",
    "            calculator()\n",
    "\n",
    "calculator()\n"
   ]
  }
 ],
 "metadata": {
  "kernelspec": {
   "display_name": "Python 3 (ipykernel)",
   "language": "python",
   "name": "python3"
  },
  "language_info": {
   "codemirror_mode": {
    "name": "ipython",
    "version": 3
   },
   "file_extension": ".py",
   "mimetype": "text/x-python",
   "name": "python",
   "nbconvert_exporter": "python",
   "pygments_lexer": "ipython3",
   "version": "3.11.7"
  }
 },
 "nbformat": 4,
 "nbformat_minor": 5
}
