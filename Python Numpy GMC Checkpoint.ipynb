{
 "cells": [
  {
   "cell_type": "code",
   "execution_count": 1,
   "id": "4a6a1582-64e4-46b1-b204-ee520d2d0e03",
   "metadata": {},
   "outputs": [],
   "source": [
    "with open('grades_analysis.py', 'w') as file:\n",
    "    pass"
   ]
  },
  {
   "cell_type": "code",
   "execution_count": 3,
   "id": "7ab9e64c-571f-46c9-8852-731a8756fb34",
   "metadata": {},
   "outputs": [],
   "source": [
    "import numpy as np"
   ]
  },
  {
   "cell_type": "code",
   "execution_count": 2,
   "id": "7f110465-16df-4774-ad35-70b07d183d59",
   "metadata": {},
   "outputs": [],
   "source": [
    "score = [85, 90, 88, 92, 95, 80, 75, 98, 89, 83]"
   ]
  },
  {
   "cell_type": "code",
   "execution_count": 5,
   "id": "3ded3f4a-5d2e-46f2-a7a5-c2a279a24efa",
   "metadata": {},
   "outputs": [
    {
     "name": "stdout",
     "output_type": "stream",
     "text": [
      "[85 90 88 92 95 80 75 98 89 83]\n"
     ]
    }
   ],
   "source": [
    "# Step 1: Create the grades array\n",
    "grades = np.array(score)\n",
    "print(grades)"
   ]
  },
  {
   "cell_type": "code",
   "execution_count": 7,
   "id": "f798dcc3-677c-478a-ab97-cd913b37c28f",
   "metadata": {},
   "outputs": [
    {
     "name": "stdout",
     "output_type": "stream",
     "text": [
      "Mean Grade: 87.5\n",
      "\n",
      "Median Grade: 88.5\n",
      "\n",
      "Standard Deviation: 6.591661399070799\n",
      "\n",
      "Maximum Grade: 98\n",
      "\n",
      "Minimum Grade: 75\n",
      "\n",
      "Sorted Grades: [75 80 83 85 88 89 90 92 95 98]\n",
      "\n",
      "Index of Highest Grade: 7\n",
      "\n",
      "Number of Students Scored Above 90: 3\n",
      "\n",
      "Percentage of Students Scored Above 90: 30.0% \n",
      "\n",
      "Percentage of Students Scored Below 75: 0.0% \n",
      "\n",
      "Grades Above 90 (High Performers): [92 95 98]\n",
      "\n",
      "Passing Grades: [85 90 88 92 95 80 98 89 83]\n"
     ]
    }
   ],
   "source": [
    "# Step 2: Calculate the mean, median, and standard deviation of the grades\n",
    "mean_grade = np.mean(grades)\n",
    "median_grade = np.median(grades)\n",
    "std_deviation = np.std(grades)\n",
    "\n",
    "# Step 3: Find the maximum and minimum of the grades\n",
    "max_grade = np.max(grades)\n",
    "min_grade = np.min(grades)\n",
    "\n",
    "# Step 4: Sort the grades in ascending order\n",
    "sorted_grades = np.sort(grades)\n",
    "\n",
    "# Step 5: Find the index of the highest grade in the array\n",
    "index_max_grade = np.argmax(grades)\n",
    "\n",
    "# Step 6: Count the number of students who scored above 90\n",
    "count_above_90 = np.sum(grades > 90)\n",
    "\n",
    "# Step 7: Calculate the percentage of students who scored above 90\n",
    "percentage_above_90 = (count_above_90 / len(grades)) * 100\n",
    "\n",
    "# Step 8: Calculate the percentage of students who scored below 75\n",
    "count_below_75 = np.sum(grades < 75)\n",
    "percentage_below_75 = (count_below_75 / len(grades)) * 100\n",
    "\n",
    "# Step 9: Extract all the grades above 90 and put them in a new array called \"high_performers\"\n",
    "high_performers = grades[grades > 90]\n",
    "\n",
    "# Step 10: Create a new array called \"passing_grades\" that contains all the grades above 75\n",
    "passing_grades = grades[grades > 75]\n",
    "\n",
    "# Step 11: Print the result of all the above steps\n",
    "print(f\"Mean Grade: {mean_grade}\\n\")\n",
    "print(f\"Median Grade: {median_grade}\\n\")\n",
    "print(f\"Standard Deviation: {std_deviation}\\n\")\n",
    "print(f\"Maximum Grade: {max_grade}\\n\")\n",
    "print(f\"Minimum Grade: {min_grade}\\n\")\n",
    "print(f\"Sorted Grades: {sorted_grades}\\n\")\n",
    "print(f\"Index of Highest Grade: {index_max_grade}\\n\")\n",
    "print(f\"Number of Students Scored Above 90: {count_above_90}\\n\")\n",
    "print(f\"Percentage of Students Scored Above 90: {percentage_above_90}% \\n\")\n",
    "print(f\"Percentage of Students Scored Below 75: {percentage_below_75}% \\n\")\n",
    "print(f\"Grades Above 90 (High Performers): {high_performers}\\n\")\n",
    "print(f\"Passing Grades: {passing_grades}\")\n"
   ]
  },
  {
   "cell_type": "code",
   "execution_count": 9,
   "id": "1b942552-5a3b-4735-90fa-cf0bc780283e",
   "metadata": {},
   "outputs": [],
   "source": [
    "result = f\"\"\"\n",
    "import numpy as np\n",
    "\n",
    "# Step 1: Create the grades array\n",
    "grades = np.array([85, 90, 88, 92, 95, 80, 75, 98, 89, 83])\n",
    "\n",
    "# Step 2: Calculate the mean, median, and standard deviation of the grades\n",
    "mean_grade = np.mean(grades)\n",
    "median_grade = np.median(grades)\n",
    "std_deviation = np.std(grades)\n",
    "\n",
    "# Step 3: Find the maximum and minimum of the grades\n",
    "max_grade = np.max(grades)\n",
    "min_grade = np.min(grades)\n",
    "\n",
    "# Step 4: Sort the grades in ascending order\n",
    "sorted_grades = np.sort(grades)\n",
    "\n",
    "# Step 5: Find the index of the highest grade in the array\n",
    "index_max_grade = np.argmax(grades)\n",
    "\n",
    "# Step 6: Count the number of students who scored above 90\n",
    "count_above_90 = np.sum(grades > 90)\n",
    "\n",
    "# Step 7: Calculate the percentage of students who scored above 90\n",
    "percentage_above_90 = (count_above_90 / len(grades)) * 100\n",
    "\n",
    "# Step 8: Calculate the percentage of students who scored below 75\n",
    "count_below_75 = np.sum(grades < 75)\n",
    "percentage_below_75 = (count_below_75 / len(grades)) * 100\n",
    "\n",
    "# Step 9: Extract all the grades above 90 and put them in a new array called \"high_performers\"\n",
    "high_performers = grades[grades > 90]\n",
    "\n",
    "# Step 10: Create a new array called \"passing_grades\" that contains all the grades above 75\n",
    "passing_grades = grades[grades > 75]\n",
    "\n",
    "# Step 11: Print the result of all the above steps\n",
    "print(f\"Mean Grade: {mean_grade}\")\n",
    "print(f\"Median Grade: {median_grade}\")\n",
    "print(f\"Standard Deviation: {std_deviation}\")\n",
    "print(f\"Maximum Grade: {max_grade}\")\n",
    "print(f\"Minimum Grade: {min_grade}\")\n",
    "print(f\"Sorted Grades: {sorted_grades}\")\n",
    "print(f\"Index of Highest Grade: {index_max_grade}\")\n",
    "print(f\"Number of Students Scored Above 90: {count_above_90}\")\n",
    "print(f\"Percentage of Students Scored Above 90: {percentage_above_90}%\")\n",
    "print(f\"Percentage of Students Scored Below 75: {percentage_below_75}%\")\n",
    "print(f\"Grades Above 90 (High Performers): {high_performers}\")\n",
    "print(f\"Passing Grades: {passing_grades}\")\n",
    "\n",
    "\"\"\"\n",
    "\n",
    "with open('grades_analysis.py', 'w') as file:\n",
    "    file.write(result)\n"
   ]
  }
 ],
 "metadata": {
  "kernelspec": {
   "display_name": "Python 3 (ipykernel)",
   "language": "python",
   "name": "python3"
  },
  "language_info": {
   "codemirror_mode": {
    "name": "ipython",
    "version": 3
   },
   "file_extension": ".py",
   "mimetype": "text/x-python",
   "name": "python",
   "nbconvert_exporter": "python",
   "pygments_lexer": "ipython3",
   "version": "3.11.7"
  }
 },
 "nbformat": 4,
 "nbformat_minor": 5
}
