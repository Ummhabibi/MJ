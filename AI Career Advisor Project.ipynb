{
 "cells": [
  {
   "cell_type": "markdown",
   "id": "3052d05a-c689-483a-a062-4bc15b126bb4",
   "metadata": {},
   "source": [
    "# **AI Career Advisor**: A Predictive Model for Career Path Selection."
   ]
  },
  {
   "cell_type": "markdown",
   "id": "bc0404ae-2b4a-4e9e-af0f-8b80fde96c0e",
   "metadata": {},
   "source": [
    "## **Description**\n",
    "\n",
    "This project will leverage machine learning to guide individuals in discovering career paths aligned with their personalities, interests, and work preferences. By analyzing a range of factors, the model aims to provide tailored career recommendations for individuals just starting out, and professionals seeking a career transition."
   ]
  },
  {
   "cell_type": "markdown",
   "id": "b5a57dbc-279a-426a-9a25-e7c78f7375a5",
   "metadata": {},
   "source": [
    "## **Initial Road Map**\n",
    "\n",
    "#### **Define the Problem:**\n",
    "\n",
    "The aim of this project is to predict or recommend career paths based on certain criteria; this requires taking into consideration some factors that could influence individual career decisions, such as:\n",
    "\n",
    "* Personality traits\n",
    "* Interests or hobbies\n",
    "* Skills or strengths\n",
    "* Educational background\n",
    "* Work-life balance preferences\n",
    "\n",
    "**Data Collection:**\n",
    "\n",
    "* Conduct a survey to gather my own data.\n",
    "\n",
    "**Feature Selection:**\n",
    "\n",
    "* Identify which features (e.g., personality type, education level, interest areas) will be used to train the model.\n",
    "\n",
    "**Modeling:**\n",
    "\n",
    "* Classification algorithms to predict the suitable career. For example:Random Forest or Decision Trees might be a good start since they handle categorical data well.\n",
    "\n",
    "* Logistic Regression or even K-Nearest Neighbors.\n",
    "\n",
    "* Recommendation systems or clustering techniques.(For a broader range of careers)\n",
    "\n",
    "**Evaluation:**\n",
    "\n",
    "* Test model to see how well it predicts a career based on a test set of data. Use metrics like accuracy, precision, and recall.\n",
    "\n",
    "**Interface/User Interaction:**\n",
    "\n",
    "* Create a simple web or app interface where users input their details, and the model returns career suggestions.\n",
    "* Use Flask (Python) or other frameworks like Streamlit.\n",
    "\n",
    "**Resources:**\n",
    "\n",
    "Libraries: \n",
    "\n",
    "* pandas scikit-learn\n",
    "* XGBoost for data processing and modeling.\n",
    "\n"
   ]
  },
  {
   "cell_type": "markdown",
   "id": "f416251d-8610-4875-930b-44dc50227e60",
   "metadata": {},
   "source": [
    "### **Data Preprocessing**"
   ]
  },
  {
   "cell_type": "code",
   "execution_count": null,
   "id": "32e4463d-1719-4164-9c4e-e959f38b23ac",
   "metadata": {},
   "outputs": [],
   "source": [
    "import pandas as pd\n",
    "from sklearn.preprocessing import StandardScaler, MultiLabelBinarizer\n",
    "\n",
    "# Load dataset\n",
    "df = pd.read_csv('Career Path Survey.csv')"
   ]
  },
  {
   "cell_type": "code",
   "execution_count": null,
   "id": "35761030-7832-452d-a533-48c5cbead07b",
   "metadata": {},
   "outputs": [],
   "source": [
    "df.head()"
   ]
  },
  {
   "cell_type": "code",
   "execution_count": null,
   "id": "79df39bb-1f81-4e49-bfe4-cbabbdd0b9a2",
   "metadata": {
    "scrolled": true
   },
   "outputs": [],
   "source": [
    "# Preprocess dataset\n",
    "# Drop redundant columns\n",
    "df.drop(columns=['Timestamp'], inplace=True)"
   ]
  },
  {
   "cell_type": "code",
   "execution_count": null,
   "id": "39aeb092-9d99-4dd3-8719-53c54c1312bb",
   "metadata": {},
   "outputs": [],
   "source": [
    "df.info()"
   ]
  },
  {
   "cell_type": "code",
   "execution_count": 36,
   "id": "b6a3e52e-999c-4976-ae90-11a44952d8fd",
   "metadata": {},
   "outputs": [
    {
     "data": {
      "text/plain": [
       "0"
      ]
     },
     "execution_count": 36,
     "metadata": {},
     "output_type": "execute_result"
    }
   ],
   "source": [
    "df.duplicated().sum()"
   ]
  },
  {
   "cell_type": "code",
   "execution_count": 40,
   "id": "b26cdee8-0731-4696-b2e9-16519b265e50",
   "metadata": {
    "scrolled": true
   },
   "outputs": [],
   "source": [
    "#Remove whitespaces\n",
    "df.columns = df.columns.str.strip()"
   ]
  },
  {
   "cell_type": "code",
   "execution_count": null,
   "id": "dc5812e2-5433-4ae0-8abd-05c71cca95b6",
   "metadata": {},
   "outputs": [],
   "source": [
    "# Dropping specific columns by name\n",
    "df.drop(columns=['Other, please specify .1','Other, please specify .2', 'Other, pls specify'], inplace=True)\n"
   ]
  },
  {
   "cell_type": "code",
   "execution_count": 35,
   "id": "0f9aa513-5f0d-43c8-bd30-9853bb980316",
   "metadata": {},
   "outputs": [
    {
     "name": "stdout",
     "output_type": "stream",
     "text": [
      "<class 'pandas.core.frame.DataFrame'>\n",
      "Index: 89 entries, 0 to 82\n",
      "Data columns (total 25 columns):\n",
      " #   Column                     Non-Null Count  Dtype  \n",
      "---  ------                     --------------  -----  \n",
      " 0   gender                     89 non-null     object \n",
      " 1   employment_status          89 non-null     object \n",
      " 2   years_experience           71 non-null     object \n",
      " 3   education_level            89 non-null     object \n",
      " 4   age                        89 non-null     object \n",
      " 5   transition_reason          54 non-null     object \n",
      " 6   transition_career          46 non-null     object \n",
      " 7   transition_challenge       51 non-null     object \n",
      " 8   challenges_other           9 non-null      object \n",
      " 9   current_job_title          66 non-null     object \n",
      " 10  career_satisfaction        68 non-null     float64\n",
      " 11  primary_motivation         68 non-null     object \n",
      " 12  aspired_job                68 non-null     object \n",
      " 13  technical_skills           81 non-null     object \n",
      " 14  soft_skills                81 non-null     object \n",
      " 15  has_certifications         81 non-null     object \n",
      " 16  certification              89 non-null     object \n",
      " 17  free_time_activity         68 non-null     object \n",
      " 18  recharge_preference        66 non-null     object \n",
      " 19  social_gathering_feelings  68 non-null     object \n",
      " 20  conversation_style         68 non-null     object \n",
      " 21  work_environment           68 non-null     object \n",
      " 22  work_style                 68 non-null     object \n",
      " 23  uncertainty_handling       68 non-null     object \n",
      " 24  work_life_balance          68 non-null     object \n",
      "dtypes: float64(1), object(24)\n",
      "memory usage: 18.1+ KB\n"
     ]
    }
   ],
   "source": [
    "df.info()"
   ]
  },
  {
   "cell_type": "code",
   "execution_count": null,
   "id": "ab796b1e-95e9-447d-bde8-04fe003d71b4",
   "metadata": {},
   "outputs": [],
   "source": [
    "#Create new column labels \n",
    "\n",
    "# Define a dictionary with old column names as keys and new column names as values\n",
    "new_column_names = {\n",
    "    'What is your gender?': 'gender',\n",
    "    'What is your current employment status?': 'employment_status',\n",
    "    'How many years of professional work experience do you have?': 'years_experience',\n",
    "    'What is your highest level of education?': 'education_level',\n",
    "    'What is your age?': 'age',\n",
    "    'What is the main reason you are looking to transition into a new career?': 'transition_reason',\n",
    "    'What field(s) are you considering for your career transition?': 'transition_career',\n",
    "    'What challenges do you anticipate in making this transition?': 'transition_challenge',\n",
    "    'Other, please specify': 'challenges_other',\n",
    "    'What is your current job title or industry (if applicable)?': 'current_job_title',\n",
    "    'How satisfied are you with your current career?\\n(On a scale of 1 to 5, where 1 = not satisfied and 5 = highly satisfied)': 'career_satisfaction',\n",
    "    'What is your primary motivation for changing careers or choosing a career path?': 'primary_motivation',\n",
    "    'What type of career do you aspire to have in the future?': 'aspired_job',\n",
    "    'Which technical skills do you have? (Select all that apply)': 'technical_skills',\n",
    "    'Other, pls specify ': 'technical_skills_other',\n",
    "    'Which soft skills do you possess? (Select all that apply)': 'soft_skills',\n",
    "    'Do you have any professional certifications or licenses?': 'has_certifications',\n",
    "    'If Yes, please specify': 'certification',\n",
    "    'How do you usually spend your free time?': 'free_time_activity',\n",
    "    'How do you prefer to recharge after a long day?': 'recharge_preference',\n",
    "    'In large social gatherings, do you typically feel': 'social_gathering_feelings',\n",
    "    'How would you describe yourself in conversations?': 'conversation_style',\n",
    "    'Which type of work environment do you prefer?': 'work_environment',\n",
    "    'Do you prefer working in': 'work_style',\n",
    "    'How do you handle uncertainty or change in the workplace?': 'uncertainty_handling',\n",
    "    'What is your ideal work-life balance?': 'work_life_balance'\n",
    "}\n",
    "\n",
    "# Rename the columns\n",
    "df.rename(columns=new_column_names, inplace=True)"
   ]
  },
  {
   "cell_type": "code",
   "execution_count": null,
   "id": "00f01aae-15cd-4bbe-9e16-5ea152c82860",
   "metadata": {},
   "outputs": [],
   "source": [
    "pd.set_option('display.max_columns', None)"
   ]
  },
  {
   "cell_type": "code",
   "execution_count": 37,
   "id": "925357f4-1f03-4e37-8d7c-4ffb62264066",
   "metadata": {},
   "outputs": [
    {
     "data": {
      "text/html": [
       "<div>\n",
       "<style scoped>\n",
       "    .dataframe tbody tr th:only-of-type {\n",
       "        vertical-align: middle;\n",
       "    }\n",
       "\n",
       "    .dataframe tbody tr th {\n",
       "        vertical-align: top;\n",
       "    }\n",
       "\n",
       "    .dataframe thead th {\n",
       "        text-align: right;\n",
       "    }\n",
       "</style>\n",
       "<table border=\"1\" class=\"dataframe\">\n",
       "  <thead>\n",
       "    <tr style=\"text-align: right;\">\n",
       "      <th></th>\n",
       "      <th>gender</th>\n",
       "      <th>employment_status</th>\n",
       "      <th>years_experience</th>\n",
       "      <th>education_level</th>\n",
       "      <th>age</th>\n",
       "      <th>transition_reason</th>\n",
       "      <th>transition_career</th>\n",
       "      <th>transition_challenge</th>\n",
       "      <th>challenges_other</th>\n",
       "      <th>current_job_title</th>\n",
       "      <th>career_satisfaction</th>\n",
       "      <th>primary_motivation</th>\n",
       "      <th>aspired_job</th>\n",
       "      <th>technical_skills</th>\n",
       "      <th>soft_skills</th>\n",
       "      <th>has_certifications</th>\n",
       "      <th>certification</th>\n",
       "      <th>free_time_activity</th>\n",
       "      <th>recharge_preference</th>\n",
       "      <th>social_gathering_feelings</th>\n",
       "      <th>conversation_style</th>\n",
       "      <th>work_environment</th>\n",
       "      <th>work_style</th>\n",
       "      <th>uncertainty_handling</th>\n",
       "      <th>work_life_balance</th>\n",
       "    </tr>\n",
       "  </thead>\n",
       "  <tbody>\n",
       "    <tr>\n",
       "      <th>0</th>\n",
       "      <td>Female</td>\n",
       "      <td>Unemployed, looking for work</td>\n",
       "      <td>4-7 years</td>\n",
       "      <td>Professional certifications</td>\n",
       "      <td>45-54</td>\n",
       "      <td>Seeking higher income or more security</td>\n",
       "      <td>Tech</td>\n",
       "      <td>Difficulty finding opportunities</td>\n",
       "      <td>The water</td>\n",
       "      <td>Transcriptionist</td>\n",
       "      <td>3.0</td>\n",
       "      <td>Financial reasons</td>\n",
       "      <td>Better</td>\n",
       "      <td>Other</td>\n",
       "      <td>Problem solving, Time management</td>\n",
       "      <td>Yes</td>\n",
       "      <td>TRCN</td>\n",
       "      <td>Spending time alone or in quiet reflection</td>\n",
       "      <td>NaN</td>\n",
       "      <td>Spending time alone or in quiet reflection</td>\n",
       "      <td>I mostly listen and speak when necessary</td>\n",
       "      <td>Flexible, dynamic, and open-ended</td>\n",
       "      <td>Independent, solo work</td>\n",
       "      <td>I adapt quickly and enjoy new challenges</td>\n",
       "      <td>Balanced between work and personal time</td>\n",
       "    </tr>\n",
       "  </tbody>\n",
       "</table>\n",
       "</div>"
      ],
      "text/plain": [
       "   gender             employment_status years_experience  \\\n",
       "0  Female  Unemployed, looking for work        4-7 years   \n",
       "\n",
       "               education_level    age                       transition_reason  \\\n",
       "0  Professional certifications  45-54  Seeking higher income or more security   \n",
       "\n",
       "  transition_career              transition_challenge challenges_other  \\\n",
       "0              Tech  Difficulty finding opportunities        The water   \n",
       "\n",
       "   current_job_title  career_satisfaction primary_motivation aspired_job  \\\n",
       "0  Transcriptionist                   3.0  Financial reasons      Better   \n",
       "\n",
       "  technical_skills                       soft_skills has_certifications  \\\n",
       "0            Other  Problem solving, Time management                Yes   \n",
       "\n",
       "  certification                          free_time_activity  \\\n",
       "0          TRCN  Spending time alone or in quiet reflection   \n",
       "\n",
       "  recharge_preference                   social_gathering_feelings  \\\n",
       "0                 NaN  Spending time alone or in quiet reflection   \n",
       "\n",
       "                         conversation_style  \\\n",
       "0  I mostly listen and speak when necessary   \n",
       "\n",
       "                    work_environment              work_style  \\\n",
       "0  Flexible, dynamic, and open-ended  Independent, solo work   \n",
       "\n",
       "                       uncertainty_handling  \\\n",
       "0  I adapt quickly and enjoy new challenges   \n",
       "\n",
       "                         work_life_balance  \n",
       "0  Balanced between work and personal time  "
      ]
     },
     "execution_count": 37,
     "metadata": {},
     "output_type": "execute_result"
    }
   ],
   "source": [
    "df.head(1)"
   ]
  },
  {
   "cell_type": "markdown",
   "id": "dab3111f-627d-4eb8-ac14-8701fa3efa6b",
   "metadata": {},
   "source": [
    "#### Handling Missing Values"
   ]
  },
  {
   "cell_type": "code",
   "execution_count": 63,
   "id": "5a196f51-f74f-447f-95e1-03936cf6051d",
   "metadata": {},
   "outputs": [
    {
     "data": {
      "text/plain": [
       "gender                        0\n",
       "employment_status             0\n",
       "years_experience              0\n",
       "education_level               0\n",
       "age                           0\n",
       "transition_reason             0\n",
       "transition_career             0\n",
       "transition_challenge          0\n",
       "challenges_other             80\n",
       "current_job_title            23\n",
       "career_satisfaction          21\n",
       "primary_motivation           21\n",
       "aspired_job                  21\n",
       "technical_skills              8\n",
       "soft_skills                   8\n",
       "has_certifications            8\n",
       "certification                 0\n",
       "free_time_activity           21\n",
       "recharge_preference          23\n",
       "social_gathering_feelings    21\n",
       "conversation_style           21\n",
       "work_environment             21\n",
       "work_style                   21\n",
       "uncertainty_handling         21\n",
       "work_life_balance            21\n",
       "dtype: int64"
      ]
     },
     "execution_count": 63,
     "metadata": {},
     "output_type": "execute_result"
    }
   ],
   "source": [
    "df.isnull().sum()"
   ]
  },
  {
   "cell_type": "code",
   "execution_count": 45,
   "id": "6323d59e-9e0e-4fb5-b3b1-3915ada4a1f9",
   "metadata": {},
   "outputs": [
    {
     "data": {
      "text/plain": [
       "array(['4-7 years', '1-3 years', '10+ years', nan, '8-10 years',\n",
       "       'Less than 1 year'], dtype=object)"
      ]
     },
     "execution_count": 45,
     "metadata": {},
     "output_type": "execute_result"
    }
   ],
   "source": [
    "df['years_experience'].unique()             "
   ]
  },
  {
   "cell_type": "code",
   "execution_count": 46,
   "id": "e667e660-3503-4b60-a6e6-2fcda890e22b",
   "metadata": {},
   "outputs": [
    {
     "data": {
      "text/html": [
       "<div>\n",
       "<style scoped>\n",
       "    .dataframe tbody tr th:only-of-type {\n",
       "        vertical-align: middle;\n",
       "    }\n",
       "\n",
       "    .dataframe tbody tr th {\n",
       "        vertical-align: top;\n",
       "    }\n",
       "\n",
       "    .dataframe thead th {\n",
       "        text-align: right;\n",
       "    }\n",
       "</style>\n",
       "<table border=\"1\" class=\"dataframe\">\n",
       "  <thead>\n",
       "    <tr style=\"text-align: right;\">\n",
       "      <th></th>\n",
       "      <th>years_experience</th>\n",
       "    </tr>\n",
       "  </thead>\n",
       "  <tbody>\n",
       "    <tr>\n",
       "      <th>0</th>\n",
       "      <td>4-7 years</td>\n",
       "    </tr>\n",
       "    <tr>\n",
       "      <th>1</th>\n",
       "      <td>1-3 years</td>\n",
       "    </tr>\n",
       "    <tr>\n",
       "      <th>2</th>\n",
       "      <td>10+ years</td>\n",
       "    </tr>\n",
       "    <tr>\n",
       "      <th>3</th>\n",
       "      <td>4-7 years</td>\n",
       "    </tr>\n",
       "    <tr>\n",
       "      <th>4</th>\n",
       "      <td>10+ years</td>\n",
       "    </tr>\n",
       "    <tr>\n",
       "      <th>...</th>\n",
       "      <td>...</td>\n",
       "    </tr>\n",
       "    <tr>\n",
       "      <th>78</th>\n",
       "      <td>No Experience</td>\n",
       "    </tr>\n",
       "    <tr>\n",
       "      <th>79</th>\n",
       "      <td>No Experience</td>\n",
       "    </tr>\n",
       "    <tr>\n",
       "      <th>80</th>\n",
       "      <td>4-7 years</td>\n",
       "    </tr>\n",
       "    <tr>\n",
       "      <th>81</th>\n",
       "      <td>1-3 years</td>\n",
       "    </tr>\n",
       "    <tr>\n",
       "      <th>82</th>\n",
       "      <td>1-3 years</td>\n",
       "    </tr>\n",
       "  </tbody>\n",
       "</table>\n",
       "<p>89 rows × 1 columns</p>\n",
       "</div>"
      ],
      "text/plain": [
       "   years_experience\n",
       "0         4-7 years\n",
       "1         1-3 years\n",
       "2         10+ years\n",
       "3         4-7 years\n",
       "4         10+ years\n",
       "..              ...\n",
       "78    No Experience\n",
       "79    No Experience\n",
       "80        4-7 years\n",
       "81        1-3 years\n",
       "82        1-3 years\n",
       "\n",
       "[89 rows x 1 columns]"
      ]
     },
     "execution_count": 46,
     "metadata": {},
     "output_type": "execute_result"
    }
   ],
   "source": [
    "#fill missing values in years_experience\n",
    "df['years_experience'].fillna('No Experience', inplace=True)\n",
    "df[['years_experience']]"
   ]
  },
  {
   "cell_type": "code",
   "execution_count": 47,
   "id": "19ce3eb1-5468-41f3-8126-877895115106",
   "metadata": {},
   "outputs": [
    {
     "data": {
      "text/plain": [
       "array(['Seeking higher income or more security', nan,\n",
       "       'Personal growth or a new challenge',\n",
       "       'Burnout or dissatisfaction in the current career',\n",
       "       'Looking for better work-life balance'], dtype=object)"
      ]
     },
     "execution_count": 47,
     "metadata": {},
     "output_type": "execute_result"
    }
   ],
   "source": [
    "df['transition_reason'].unique()"
   ]
  },
  {
   "cell_type": "code",
   "execution_count": 48,
   "id": "38b3d6a0-d8fd-4c67-82aa-86ae7cafa29a",
   "metadata": {},
   "outputs": [
    {
     "data": {
      "text/html": [
       "<div>\n",
       "<style scoped>\n",
       "    .dataframe tbody tr th:only-of-type {\n",
       "        vertical-align: middle;\n",
       "    }\n",
       "\n",
       "    .dataframe tbody tr th {\n",
       "        vertical-align: top;\n",
       "    }\n",
       "\n",
       "    .dataframe thead th {\n",
       "        text-align: right;\n",
       "    }\n",
       "</style>\n",
       "<table border=\"1\" class=\"dataframe\">\n",
       "  <thead>\n",
       "    <tr style=\"text-align: right;\">\n",
       "      <th></th>\n",
       "      <th>transition_reason</th>\n",
       "    </tr>\n",
       "  </thead>\n",
       "  <tbody>\n",
       "    <tr>\n",
       "      <th>0</th>\n",
       "      <td>Seeking higher income or more security</td>\n",
       "    </tr>\n",
       "    <tr>\n",
       "      <th>1</th>\n",
       "      <td>Seeking higher income or more security</td>\n",
       "    </tr>\n",
       "    <tr>\n",
       "      <th>2</th>\n",
       "      <td>Seeking higher income or more security</td>\n",
       "    </tr>\n",
       "    <tr>\n",
       "      <th>3</th>\n",
       "      <td>Seeking higher income or more security</td>\n",
       "    </tr>\n",
       "    <tr>\n",
       "      <th>4</th>\n",
       "      <td>Personal growth or a new challenge</td>\n",
       "    </tr>\n",
       "    <tr>\n",
       "      <th>...</th>\n",
       "      <td>...</td>\n",
       "    </tr>\n",
       "    <tr>\n",
       "      <th>78</th>\n",
       "      <td>Seeking higher income or more security</td>\n",
       "    </tr>\n",
       "    <tr>\n",
       "      <th>79</th>\n",
       "      <td>Looking for better work-life balance</td>\n",
       "    </tr>\n",
       "    <tr>\n",
       "      <th>80</th>\n",
       "      <td>Looking for better work-life balance</td>\n",
       "    </tr>\n",
       "    <tr>\n",
       "      <th>81</th>\n",
       "      <td>Seeking higher income or more security</td>\n",
       "    </tr>\n",
       "    <tr>\n",
       "      <th>82</th>\n",
       "      <td>Seeking higher income or more security</td>\n",
       "    </tr>\n",
       "  </tbody>\n",
       "</table>\n",
       "<p>89 rows × 1 columns</p>\n",
       "</div>"
      ],
      "text/plain": [
       "                         transition_reason\n",
       "0   Seeking higher income or more security\n",
       "1   Seeking higher income or more security\n",
       "2   Seeking higher income or more security\n",
       "3   Seeking higher income or more security\n",
       "4       Personal growth or a new challenge\n",
       "..                                     ...\n",
       "78  Seeking higher income or more security\n",
       "79    Looking for better work-life balance\n",
       "80    Looking for better work-life balance\n",
       "81  Seeking higher income or more security\n",
       "82  Seeking higher income or more security\n",
       "\n",
       "[89 rows x 1 columns]"
      ]
     },
     "execution_count": 48,
     "metadata": {},
     "output_type": "execute_result"
    }
   ],
   "source": [
    "#Fill missing value with column mode\n",
    "df['transition_reason'].fillna(df['transition_reason'].mode()[0], inplace=True)\n",
    "df[['transition_reason']]"
   ]
  },
  {
   "cell_type": "code",
   "execution_count": 49,
   "id": "520cda33-6cfe-4b04-9c15-e202f588e168",
   "metadata": {},
   "outputs": [
    {
     "data": {
      "text/plain": [
       "array(['Tech', nan, 'Academics ', 'Executive Management', 'Security ',\n",
       "       'Any good job', 'Agriculture ', 'Aviation ', 'Tech\\n', 'Business',\n",
       "       'Medicine ', 'IT', 'AI engineering ', 'Data management ',\n",
       "       'FINTECH', 'AI', 'Financial Technology ', 'Business World',\n",
       "       'Tech field ', 'Education ', 'Data Science',\n",
       "       'Full stack software development ',\n",
       "       'Data Science, Private Banking and Wealth Management',\n",
       "       'Environmental Data scientist/Analyst ',\n",
       "       'Data Analysis/ Data Science', 'Data Science ', 'Data science',\n",
       "       'Executive officer', 'Cyber security ',\n",
       "       'I’m in the tech field already ', 'Technology ', 'Beauty ',\n",
       "       'Tech skills', 'Clinical documentation improvement specialist ',\n",
       "       'Animal husbandry ', '. ', 'Mechanical Engineering ',\n",
       "       'Administrative duties, planning and organising '], dtype=object)"
      ]
     },
     "execution_count": 49,
     "metadata": {},
     "output_type": "execute_result"
    }
   ],
   "source": [
    "df['transition_career'].unique()"
   ]
  },
  {
   "cell_type": "code",
   "execution_count": null,
   "id": "d500b387-250f-4b54-9599-0f871ed838ca",
   "metadata": {
    "scrolled": true
   },
   "outputs": [],
   "source": [
    "#Filling missing values in transition_career\n",
    "df['transition_career'].fillna('Undecided', inplace=True)\n"
   ]
  },
  {
   "cell_type": "code",
   "execution_count": 53,
   "id": "1d425641-9d64-489b-b753-72b7ebd18039",
   "metadata": {},
   "outputs": [
    {
     "data": {
      "text/plain": [
       "0"
      ]
     },
     "execution_count": 53,
     "metadata": {},
     "output_type": "execute_result"
    }
   ],
   "source": [
    "df['transition_career'].isnull().sum()"
   ]
  },
  {
   "cell_type": "code",
   "execution_count": null,
   "id": "445b8e94-cd6d-4c04-bcb0-cc3fd2863cea",
   "metadata": {
    "scrolled": true
   },
   "outputs": [],
   "source": [
    "#Mapping transition_career \n",
    "tc_map = {\n",
    "    'Tech': 'IT',\n",
    "    'nan': 'Undecided',\n",
    "    'Academics ': 'Education',\n",
    "    'Executive Management': 'Corporate Governance',\n",
    "    'Security ': 'IT',\n",
    "    'Any good job': 'Undecided',\n",
    "    'Agriculture ': 'Agriculture',\n",
    "    'Aviation ': 'Aviation',\n",
    "    'Tech\\n': 'IT',\n",
    "    'Business': 'Finance',\n",
    "    'Medicine ': 'Healthcare',\n",
    "    'IT': 'IT',\n",
    "    'AI engineering ': 'Machine Learning',\n",
    "    'Data management ': 'IT',\n",
    "    'FINTECH': 'Finance' , \n",
    "    'AI': 'Machine Learning',\n",
    "    'Financial Technology ': 'Finance',\n",
    "    'Business World': 'Finance',\n",
    "    'Tech field ': 'IT', \n",
    "    'Education ': 'Education',\n",
    "    'Data Science': 'Data Science',\n",
    "    'Full stack software development ': 'IT',\n",
    "    'Data Science, Private Banking and Wealth Management': 'Finance',\n",
    "    'Environmental Data scientist/Analyst ': 'Data Science',\n",
    "    'Data Analysis/ Data Science': 'Data Science', \n",
    "    'Data Science ': 'Data Science',\n",
    "    'Data science': 'Data Science',\n",
    "    'Executive officer': 'Management',\n",
    "    'Cyber security ': 'IT',\n",
    "    'I’m in the tech field already ': 'IT',\n",
    "    'Technology ': 'IT',\n",
    "    'Beauty ': 'Skincare',\n",
    "    'Tech skills': 'IT',\n",
    "    'Clinical documentation improvement specialist ': 'Healthcare',\n",
    "    'Animal husbandry ': 'Agriculture',\n",
    "    '. ': 'Undecided',\n",
    "    'Mechanical Engineering ': 'Engineering',\n",
    "    'Administrative duties, planning and organising ': 'Administration'\n",
    "}\n",
    "\n",
    "# Replace entries in certification columns\n",
    "df['transition_career'] = df['transition_career'].replace(tc_map)\n"
   ]
  },
  {
   "cell_type": "code",
   "execution_count": 54,
   "id": "b9c79990-4a57-4e87-8300-6121696da9df",
   "metadata": {},
   "outputs": [
    {
     "data": {
      "text/html": [
       "<div>\n",
       "<style scoped>\n",
       "    .dataframe tbody tr th:only-of-type {\n",
       "        vertical-align: middle;\n",
       "    }\n",
       "\n",
       "    .dataframe tbody tr th {\n",
       "        vertical-align: top;\n",
       "    }\n",
       "\n",
       "    .dataframe thead th {\n",
       "        text-align: right;\n",
       "    }\n",
       "</style>\n",
       "<table border=\"1\" class=\"dataframe\">\n",
       "  <thead>\n",
       "    <tr style=\"text-align: right;\">\n",
       "      <th></th>\n",
       "      <th>transition_career</th>\n",
       "    </tr>\n",
       "  </thead>\n",
       "  <tbody>\n",
       "    <tr>\n",
       "      <th>0</th>\n",
       "      <td>IT</td>\n",
       "    </tr>\n",
       "    <tr>\n",
       "      <th>1</th>\n",
       "      <td>Undecided</td>\n",
       "    </tr>\n",
       "    <tr>\n",
       "      <th>2</th>\n",
       "      <td>Education</td>\n",
       "    </tr>\n",
       "    <tr>\n",
       "      <th>3</th>\n",
       "      <td>Undecided</td>\n",
       "    </tr>\n",
       "    <tr>\n",
       "      <th>4</th>\n",
       "      <td>Corporate Governance</td>\n",
       "    </tr>\n",
       "    <tr>\n",
       "      <th>...</th>\n",
       "      <td>...</td>\n",
       "    </tr>\n",
       "    <tr>\n",
       "      <th>78</th>\n",
       "      <td>Agriculture</td>\n",
       "    </tr>\n",
       "    <tr>\n",
       "      <th>79</th>\n",
       "      <td>Undecided</td>\n",
       "    </tr>\n",
       "    <tr>\n",
       "      <th>80</th>\n",
       "      <td>Engineering</td>\n",
       "    </tr>\n",
       "    <tr>\n",
       "      <th>81</th>\n",
       "      <td>Undecided</td>\n",
       "    </tr>\n",
       "    <tr>\n",
       "      <th>82</th>\n",
       "      <td>Administration</td>\n",
       "    </tr>\n",
       "  </tbody>\n",
       "</table>\n",
       "<p>89 rows × 1 columns</p>\n",
       "</div>"
      ],
      "text/plain": [
       "       transition_career\n",
       "0                     IT\n",
       "1              Undecided\n",
       "2              Education\n",
       "3              Undecided\n",
       "4   Corporate Governance\n",
       "..                   ...\n",
       "78           Agriculture\n",
       "79             Undecided\n",
       "80           Engineering\n",
       "81             Undecided\n",
       "82        Administration\n",
       "\n",
       "[89 rows x 1 columns]"
      ]
     },
     "execution_count": 54,
     "metadata": {},
     "output_type": "execute_result"
    }
   ],
   "source": [
    "df[['transition_career']]"
   ]
  },
  {
   "cell_type": "code",
   "execution_count": 60,
   "id": "ff710519-ad5c-47e0-aa13-39d81bb0fca6",
   "metadata": {},
   "outputs": [
    {
     "data": {
      "text/plain": [
       "array(['Difficulty finding opportunities', 'None',\n",
       "       'Lack of skills or experience in the new field',\n",
       "       'Financial instability during the transition', 'Other'],\n",
       "      dtype=object)"
      ]
     },
     "execution_count": 60,
     "metadata": {},
     "output_type": "execute_result"
    }
   ],
   "source": [
    "df['transition_challenge'].unique()"
   ]
  },
  {
   "cell_type": "code",
   "execution_count": 56,
   "id": "85834951-325c-4559-84ec-6b1388830cb1",
   "metadata": {},
   "outputs": [],
   "source": [
    "df['transition_challenge'].fillna('None', inplace=True)"
   ]
  },
  {
   "cell_type": "code",
   "execution_count": 59,
   "id": "bca465c5-229c-472a-b509-029a84bdcad3",
   "metadata": {},
   "outputs": [
    {
     "data": {
      "text/plain": [
       "0"
      ]
     },
     "execution_count": 59,
     "metadata": {},
     "output_type": "execute_result"
    }
   ],
   "source": [
    "#Checking for missing values \n",
    "df['transition_challenge'].isnull().sum()"
   ]
  },
  {
   "cell_type": "code",
   "execution_count": 61,
   "id": "2fc4269a-eb59-4bce-9dc7-7dc1c9c4d424",
   "metadata": {},
   "outputs": [],
   "source": [
    "#Mapping transition_challenge column\n",
    "t_challenge_map = {\n",
    "    'Difficulty finding opportunities': 'Opportunity Challenge',\n",
    "    'None':'None',\n",
    "    'Lack of skills or experience in the new field': 'No Skills',\n",
    "    'Financial instability during the transition': 'Financial Challenge',\n",
    "    'Other': 'No Skills'\n",
    "}\n",
    "\n",
    "# Replace entries in transition_challenge columns\n",
    "df['transition_challenge'] = df['transition_challenge'].replace(t_challenge_map)\n",
    "    "
   ]
  },
  {
   "cell_type": "code",
   "execution_count": 62,
   "id": "e96df670-bcd2-4fcc-a1e5-456e33be7f51",
   "metadata": {},
   "outputs": [
    {
     "data": {
      "text/plain": [
       "array(['Opportunity Challenge', 'None', 'No Skills',\n",
       "       'Financial Challenge'], dtype=object)"
      ]
     },
     "execution_count": 62,
     "metadata": {},
     "output_type": "execute_result"
    }
   ],
   "source": [
    "df['transition_challenge'].unique()"
   ]
  },
  {
   "cell_type": "code",
   "execution_count": null,
   "id": "d598fbfa-7cf2-4f7e-873b-b26db3df54d2",
   "metadata": {
    "scrolled": true
   },
   "outputs": [],
   "source": [
    "#Dropping challenges_other column too many missing values\n",
    "df.drop(['challenges_other'], axis=1, inplace=True)"
   ]
  },
  {
   "cell_type": "code",
   "execution_count": 95,
   "id": "7ed96825-4802-498e-9d1d-ae09fc0d584f",
   "metadata": {},
   "outputs": [
    {
     "data": {
      "text/plain": [
       "gender                        0\n",
       "employment_status             0\n",
       "years_experience              0\n",
       "education_level               0\n",
       "age                           0\n",
       "transition_reason             0\n",
       "transition_career             0\n",
       "transition_challenge          0\n",
       "current_job_title             0\n",
       "career_satisfaction          21\n",
       "primary_motivation            0\n",
       "aspired_job                  21\n",
       "technical_skills              0\n",
       "soft_skills                   0\n",
       "has_certifications            0\n",
       "certification                 0\n",
       "free_time_activity            0\n",
       "recharge_preference          23\n",
       "social_gathering_feelings    21\n",
       "conversation_style           21\n",
       "work_environment             21\n",
       "work_style                   21\n",
       "uncertainty_handling         21\n",
       "work_life_balance            21\n",
       "dtype: int64"
      ]
     },
     "execution_count": 95,
     "metadata": {},
     "output_type": "execute_result"
    }
   ],
   "source": [
    "df.isnull().sum()"
   ]
  },
  {
   "cell_type": "code",
   "execution_count": 93,
   "id": "e6605280-ec64-42e9-8fdb-0b3fbbf933b6",
   "metadata": {},
   "outputs": [
    {
     "data": {
      "text/plain": [
       "array(['Balanced between work and personal time', nan,\n",
       "       'Prioritize personal time over work',\n",
       "       'Prioritize work with minimal personal time'], dtype=object)"
      ]
     },
     "execution_count": 93,
     "metadata": {},
     "output_type": "execute_result"
    }
   ],
   "source": [
    "df['work_life_balance'].unique()"
   ]
  },
  {
   "cell_type": "code",
   "execution_count": 91,
   "id": "f7e9ed8a-150d-42b2-90c5-13979ac03f54",
   "metadata": {},
   "outputs": [
    {
     "data": {
      "text/plain": [
       "work_environment\n",
       "Flexible, dynamic, and open-ended         41\n",
       "Structured, organized, and predictable    27\n",
       "Name: count, dtype: int64"
      ]
     },
     "execution_count": 91,
     "metadata": {},
     "output_type": "execute_result"
    }
   ],
   "source": [
    "df['work_environment'].value_counts()"
   ]
  },
  {
   "cell_type": "code",
   "execution_count": null,
   "id": "11896eff-df06-4f8e-ab51-fc5759381cd0",
   "metadata": {},
   "outputs": [],
   "source": []
  },
  {
   "cell_type": "code",
   "execution_count": null,
   "id": "023e9729-9a52-430a-8838-d73628be4349",
   "metadata": {},
   "outputs": [],
   "source": [
    "#Fill missing values in remaining columns \n",
    "\n",
    "df['current_job_title'].fillna('Unemployed', inplace=True)\n",
    "df['technical_skills'].fillna('No Skills', inplace=True)  \n",
    "df['soft_skills'].fillna('No Skills', inplace=True)\n",
    "df['has_certifications'].fillna('No', inplace=True) \n",
    "\n",
    "#Fill missing value with column mode\n",
    "df['primary_motivation'].fillna(df['primary_motivation'].mode()[0], inplace=True)\n",
    "df['free_time_activity'].fillna(df['free_time_activity'].mode()[0], inplace=True)\n",
    "\n",
    "\n"
   ]
  },
  {
   "cell_type": "code",
   "execution_count": null,
   "id": "748b8b7a-1f71-41dc-b36d-059ff306caf8",
   "metadata": {},
   "outputs": [],
   "source": [
    "#Fill missing values in certification column\n",
    "df['certification'].fillna('Not specified', inplace=True)\n",
    "\n",
    "# Splitting certifications\n",
    "df['certification'] = df['certification'].str.split(', ')\n",
    "\n",
    "# Exploding the DataFrame to have one certification per row\n",
    "df = df.explode('certification')"
   ]
  },
  {
   "cell_type": "code",
   "execution_count": 41,
   "id": "9627ca13-8ab3-4b93-904a-0f0d3abe76c6",
   "metadata": {},
   "outputs": [
    {
     "data": {
      "text/plain": [
       "array(['TRCN', 'Not specified', 'Yes', 'Nil', 'NIL', 'Design', 'Nil ',\n",
       "       'No I don’t have ', 'Data analysis ', 'No',\n",
       "       'ICAN - The institute of chartered Accountants of Nigeria',\n",
       "       'Licenses', 'Aptech', 'FreeCodeCamp', 'Postman',\n",
       "       'Digital Marketing', 'Open Source',\n",
       "       'Counselling Association of Nigeria', 'software development',\n",
       "       'PMP', 'Teachers Registration Council of Nigeria ', 'A.R.E',\n",
       "       'T.C.I (1&2)', 'O. C.A', 'I.W.D',\n",
       "       'GoMyCode web development and React.js', 'Data science diploma ',\n",
       "       'Azure developer advocate ', 'BSc computer science ',\n",
       "       'Graphic design ', 'Certified medical coder', '. ', 'Nimech ',\n",
       "       'Introduction to Advocacy'], dtype=object)"
      ]
     },
     "execution_count": 41,
     "metadata": {},
     "output_type": "execute_result"
    }
   ],
   "source": [
    "df['certification'].unique()"
   ]
  },
  {
   "cell_type": "code",
   "execution_count": 42,
   "id": "5c4aa641-484b-499e-ae5c-c2ed763719d4",
   "metadata": {},
   "outputs": [],
   "source": [
    "#Streamline certification column by mapping\n",
    "cert_map = {\n",
    "    'TRCN': 'Education' , \n",
    "    'Not specified': 'No Certification', \n",
    "    'Yes': 'Miscellaneous',\n",
    "    'Nil': 'No Certification',\n",
    "    'NIL': 'No Certification',\n",
    "    'Design': \"Design\",\n",
    "    'Nil ': 'No Certification',\n",
    "    'No I don’t have ': 'No Certification',\n",
    "    'Data analysis ': 'IT',\n",
    "    'No': 'No Certification',\n",
    "    'ICAN - The institute of chartered Accountants of Nigeria': 'Finance',\n",
    "    'Licenses': 'Finance',\n",
    "    'Aptech': 'IT',\n",
    "    'FreeCodeCamp': 'IT',\n",
    "    'Postman': 'Miscellaneous',\n",
    "    'Digital Marketing': 'IT',\n",
    "    'Open Source': 'IT',\n",
    "    'Counselling Association of Nigeria': 'Counselling',\n",
    "    'software development': 'IT',\n",
    "    'PMP': 'Finance',\n",
    "    'Teachers Registration Council of Nigeria ': 'Education',\n",
    "    'A.R.E': 'Miscellaneous',\n",
    "    'T.C.I (1&2)': 'Education',\n",
    "    'O. C.A': 'Miscellaneous',\n",
    "    'I.W.D': 'Miscellaneous',\n",
    "    'GoMyCode web development and React.js': 'IT',\n",
    "    'Data science diploma ': 'IT',\n",
    "    'Azure developer advocate ': 'IT',\n",
    "    'BSc computer science ': 'IT',\n",
    "    'Graphic design ': 'Design', \n",
    "    'Certified medical coder': 'Healthcare',\n",
    "    '. ': 'No Certification',\n",
    "    'Nimech ': 'IT',\n",
    "    'Introduction to Advocacy': 'Miscellaneous'\n",
    "}\n",
    "\n",
    "# Replace entries in certification columns\n",
    "df['certification'] = df['certification'].replace(cert_map)"
   ]
  },
  {
   "cell_type": "code",
   "execution_count": 44,
   "id": "8433f60e-1134-408f-8faa-e9ef775546a6",
   "metadata": {},
   "outputs": [
    {
     "data": {
      "text/html": [
       "<div>\n",
       "<style scoped>\n",
       "    .dataframe tbody tr th:only-of-type {\n",
       "        vertical-align: middle;\n",
       "    }\n",
       "\n",
       "    .dataframe tbody tr th {\n",
       "        vertical-align: top;\n",
       "    }\n",
       "\n",
       "    .dataframe thead th {\n",
       "        text-align: right;\n",
       "    }\n",
       "</style>\n",
       "<table border=\"1\" class=\"dataframe\">\n",
       "  <thead>\n",
       "    <tr style=\"text-align: right;\">\n",
       "      <th></th>\n",
       "      <th>certification</th>\n",
       "    </tr>\n",
       "  </thead>\n",
       "  <tbody>\n",
       "    <tr>\n",
       "      <th>0</th>\n",
       "      <td>Education</td>\n",
       "    </tr>\n",
       "    <tr>\n",
       "      <th>1</th>\n",
       "      <td>No Certification</td>\n",
       "    </tr>\n",
       "    <tr>\n",
       "      <th>2</th>\n",
       "      <td>No Certification</td>\n",
       "    </tr>\n",
       "    <tr>\n",
       "      <th>3</th>\n",
       "      <td>Miscellaneous</td>\n",
       "    </tr>\n",
       "    <tr>\n",
       "      <th>4</th>\n",
       "      <td>No Certification</td>\n",
       "    </tr>\n",
       "    <tr>\n",
       "      <th>...</th>\n",
       "      <td>...</td>\n",
       "    </tr>\n",
       "    <tr>\n",
       "      <th>78</th>\n",
       "      <td>No Certification</td>\n",
       "    </tr>\n",
       "    <tr>\n",
       "      <th>79</th>\n",
       "      <td>No Certification</td>\n",
       "    </tr>\n",
       "    <tr>\n",
       "      <th>80</th>\n",
       "      <td>IT</td>\n",
       "    </tr>\n",
       "    <tr>\n",
       "      <th>81</th>\n",
       "      <td>No Certification</td>\n",
       "    </tr>\n",
       "    <tr>\n",
       "      <th>82</th>\n",
       "      <td>Miscellaneous</td>\n",
       "    </tr>\n",
       "  </tbody>\n",
       "</table>\n",
       "<p>89 rows × 1 columns</p>\n",
       "</div>"
      ],
      "text/plain": [
       "       certification\n",
       "0          Education\n",
       "1   No Certification\n",
       "2   No Certification\n",
       "3      Miscellaneous\n",
       "4   No Certification\n",
       "..               ...\n",
       "78  No Certification\n",
       "79  No Certification\n",
       "80                IT\n",
       "81  No Certification\n",
       "82     Miscellaneous\n",
       "\n",
       "[89 rows x 1 columns]"
      ]
     },
     "execution_count": 44,
     "metadata": {},
     "output_type": "execute_result"
    }
   ],
   "source": [
    "df[['certification']]"
   ]
  },
  {
   "cell_type": "code",
   "execution_count": 96,
   "id": "d2e31250-d83f-4ea8-a553-abbc8a6279a6",
   "metadata": {},
   "outputs": [],
   "source": [
    "# Fill missing values with the mode of the respective group\n",
    "df['recharge_preference'] = df.groupby('free_time_activity')['recharge_preference'].transform(\n",
    "    lambda x: x.fillna(x.mode()[0] if not x.mode().empty else 'Unknown')\n",
    ")\n",
    "\n",
    "# Fill missing values with the mode of the respective group\n",
    "df['social_gathering_feelings'] = df.groupby('recharge_preference')['social_gathering_feelings'].transform(\n",
    "    lambda x: x.fillna(x.mode()[0] if not x.mode().empty else 'Unknown')\n",
    ")\n",
    "\n",
    "# Fill missing values with the mode of the respective group\n",
    "df['conversation_style'] = df.groupby('social_gathering_feelings')['conversation_style'].transform(\n",
    "    lambda x: x.fillna(x.mode()[0] if not x.mode().empty else 'Unknown')\n",
    ")\n",
    "\n",
    "\n",
    "# Fill missing values with the mode of the respective group\n",
    "df['work_environment'] = df.groupby('social_gathering_feelings')['work_environment'].transform(\n",
    "    lambda x: x.fillna(x.mode()[0] if not x.mode().empty else 'Unknown')\n",
    ")\n",
    "\n",
    "\n",
    "# Fill missing values with the mode of the respective group\n",
    "df['work_style'] = df.groupby('social_gathering_feelings')['work_style'].transform(\n",
    "    lambda x: x.fillna(x.mode()[0] if not x.mode().empty else 'Unknown')\n",
    ")\n",
    "\n",
    "\n",
    "# Fill missing values with the mode of the respective group\n",
    "df['career_satisfaction'] = df.groupby('work_environment')['career_satisfaction'].transform(\n",
    "    lambda x: x.fillna(x.mode()[0] if not x.mode().empty else 'Unknown')\n",
    ")\n",
    "\n",
    "# Fill missing values using Segmented Mode Imputation\n",
    "df['aspired_job'] = df.groupby(['primary_motivation', 'career_satisfaction'])['aspired_job'].transform(\n",
    "    lambda x: x.fillna(x.mode()[0] if not x.mode().empty else 'Unknown')\n",
    ")\n",
    "\n",
    "# Fill missing values with the mode of the respective group\n",
    "df['uncertainty_handling'] = df.groupby('work_style')['uncertainty_handling'].transform(\n",
    "    lambda x: x.fillna(x.mode()[0] if not x.mode().empty else 'Unknown')\n",
    ")\n",
    "\n",
    "\n",
    "\n",
    "# Fill missing values with the mode of the respective group\n",
    "df['work_life_balance'] = df.groupby('work_style')['work_life_balance'].transform(\n",
    "    lambda x: x.fillna(x.mode()[0] if not x.mode().empty else 'Unknown')\n",
    ")"
   ]
  },
  {
   "cell_type": "code",
   "execution_count": 97,
   "id": "d2a08038-5139-422b-be98-49adef358f86",
   "metadata": {},
   "outputs": [
    {
     "data": {
      "text/plain": [
       "gender                       0\n",
       "employment_status            0\n",
       "years_experience             0\n",
       "education_level              0\n",
       "age                          0\n",
       "transition_reason            0\n",
       "transition_career            0\n",
       "transition_challenge         0\n",
       "current_job_title            0\n",
       "career_satisfaction          0\n",
       "primary_motivation           0\n",
       "aspired_job                  0\n",
       "technical_skills             0\n",
       "soft_skills                  0\n",
       "has_certifications           0\n",
       "certification                0\n",
       "free_time_activity           0\n",
       "recharge_preference          0\n",
       "social_gathering_feelings    0\n",
       "conversation_style           0\n",
       "work_environment             0\n",
       "work_style                   0\n",
       "uncertainty_handling         0\n",
       "work_life_balance            0\n",
       "dtype: int64"
      ]
     },
     "execution_count": 97,
     "metadata": {},
     "output_type": "execute_result"
    }
   ],
   "source": [
    "df.isnull().sum()"
   ]
  },
  {
   "cell_type": "markdown",
   "id": "3b1c5b7f-3c5e-460c-8567-091c2dddd653",
   "metadata": {},
   "source": [
    "## **Feature Engineering**"
   ]
  },
  {
   "cell_type": "code",
   "execution_count": null,
   "id": "578c725e-4b6e-4b3d-9a79-97005f759396",
   "metadata": {},
   "outputs": [],
   "source": []
  },
  {
   "cell_type": "markdown",
   "id": "7bfd381d-88f8-4019-973c-fc4ac8dc6b57",
   "metadata": {},
   "source": [
    "#### Encoding Features"
   ]
  },
  {
   "cell_type": "code",
   "execution_count": null,
   "id": "2c6a002a-2f58-467b-9f9d-a8781a5274f9",
   "metadata": {},
   "outputs": [],
   "source": [
    "#Encoding Age\n",
    "df['age'] = df['age'].map({'45-54':3, '25-34':1, '35-44':2, '18-24':0})"
   ]
  },
  {
   "cell_type": "code",
   "execution_count": null,
   "id": "26198686-67a0-4d9b-93c9-5ec9e2cf625a",
   "metadata": {},
   "outputs": [],
   "source": [
    "df['years_experience'].unique()"
   ]
  },
  {
   "cell_type": "code",
   "execution_count": null,
   "id": "a50bcdab-46a7-41da-ae63-ee73d2f0d2bb",
   "metadata": {
    "scrolled": true
   },
   "outputs": [],
   "source": [
    "df['years_experience'].value_counts()"
   ]
  },
  {
   "cell_type": "code",
   "execution_count": null,
   "id": "e99bb23b-82ad-438b-8d4b-dd778dc37608",
   "metadata": {},
   "outputs": [],
   "source": [
    "#Encode columns\n",
    "# Encoding gender\n",
    "df['gender'] = df['gender'].map({'Male': 0, 'Female': 1})"
   ]
  },
  {
   "cell_type": "code",
   "execution_count": null,
   "id": "4bd43a92-8f7d-4fc2-982e-b3af4bb70118",
   "metadata": {},
   "outputs": [],
   "source": [
    "data.drop(columns=['What is your gender?'], inplace=True)"
   ]
  }
 ],
 "metadata": {
  "kernelspec": {
   "display_name": "Python 3 (ipykernel)",
   "language": "python",
   "name": "python3"
  },
  "language_info": {
   "codemirror_mode": {
    "name": "ipython",
    "version": 3
   },
   "file_extension": ".py",
   "mimetype": "text/x-python",
   "name": "python",
   "nbconvert_exporter": "python",
   "pygments_lexer": "ipython3",
   "version": "3.11.7"
  }
 },
 "nbformat": 4,
 "nbformat_minor": 5
}
