{
 "cells": [
  {
   "cell_type": "code",
   "execution_count": 4,
   "id": "b5b9d1f0-f4d9-4924-accf-b9e615704070",
   "metadata": {},
   "outputs": [
    {
     "name": "stdout",
     "output_type": "stream",
     "text": [
      "Mean Loan Amount: 342.0 \n",
      "\n",
      "Median Loan Amount: 360.0 \n",
      "\n",
      "Standard Deviation: 65.0661202162846 \n",
      "\n"
     ]
    }
   ],
   "source": [
    "import numpy as np\n",
    "\n",
    "# Import necessary libraries\n",
    "import pandas as pd\n",
    "\n",
    "# Step 2: Open the CSV file and read its contents\n",
    "with open('Loan_prediction_dataset.csv', 'r') as file:\n",
    "    # Step 3: Use numpy to load the data\n",
    "    loan_data = np.genfromtxt(file, delimiter=',', skip_header=1, usecols=9)\n",
    "\n",
    "# Close the file\n",
    "file.close()\n",
    "\n",
    "# Remove any NaN values from the loan amounts\n",
    "loan_amounts = loan_data[~np.isnan(loan_data)]\n",
    "\n",
    "# Step 4: Perform basic statistical analysis\n",
    "mean_loan_amount = np.mean(loan_amounts)\n",
    "median_loan_amount = np.median(loan_amounts)\n",
    "std_loan_amount = np.std(loan_amounts)\n",
    "\n",
    "print(f\"Mean Loan Amount: {mean_loan_amount} \\n\")\n",
    "print(f\"Median Loan Amount: {median_loan_amount} \\n\")\n",
    "print(f\"Standard Deviation: {std_loan_amount} \\n\")\n",
    "\n",
    "\n"
   ]
  }
 ],
 "metadata": {
  "kernelspec": {
   "display_name": "Python 3 (ipykernel)",
   "language": "python",
   "name": "python3"
  },
  "language_info": {
   "codemirror_mode": {
    "name": "ipython",
    "version": 3
   },
   "file_extension": ".py",
   "mimetype": "text/x-python",
   "name": "python",
   "nbconvert_exporter": "python",
   "pygments_lexer": "ipython3",
   "version": "3.11.7"
  }
 },
 "nbformat": 4,
 "nbformat_minor": 5
}
