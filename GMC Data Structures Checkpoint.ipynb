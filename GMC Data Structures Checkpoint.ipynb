{
 "cells": [
  {
   "cell_type": "markdown",
   "id": "e5ba4ff3-d1c4-4e69-bed9-6e6fd8c6b9d7",
   "metadata": {},
   "source": [
    "## Create a program that allows the user to manage their shopping list\n",
    "The user should be able to add items to the list, remove items, and view the current list of items."
   ]
  },
  {
   "cell_type": "markdown",
   "id": "115ac8aa-32b9-439a-9c92-dd075c1a02c9",
   "metadata": {},
   "source": [
    "### Statements:"
   ]
  },
  {
   "cell_type": "markdown",
   "id": "7ec2812e-770b-4410-b997-b84e5d2ffd0d",
   "metadata": {},
   "source": [
    "1. Create a list to store the shopping items\r",
    "2. Use a while loop to create a menu of options for the user to add, remove, or view items from the list\n",
    "3. \n",
    "Use a for loop to iterate through the list of items and display them to the usr\n",
    "4. \r\n",
    "Use the range() function to limit the number of items that can be added to the 5.s5. t\r\n",
    "Use the list, tuple, set, and dictionary data structures to store and manipulate the shonging items."
   ]
  },
  {
   "cell_type": "markdown",
   "id": "49700a72-1104-45c3-935a-0031629f0fdc",
   "metadata": {},
   "source": [
    "#### Instructions:"
   ]
  },
  {
   "cell_type": "markdown",
   "id": "8e290445-1750-463a-a066-97ac2461a109",
   "metadata": {
    "jp-MarkdownHeadingCollapsed": true
   },
   "source": [
    "\n",
    "i. Create a list named 'shopping_list' to store the items.\n",
    "ii. Use a while loop to create a menu of options for the user to add, remove, or view items from the list.\n",
    "iii. Use the input() function to prompt the user to make a selection from the menu.\n",
    "iv. Use an if-elif-else block to determine the user's selection and perform the corresponding action.\n",
    "v. If the user selects 'add', use the input() function to prompt the user to enter an item to add to the list. vi. Use the range() function to limit the number of items that can be added to the list.\n",
    "vii. If the user selects 'remove', use the input() function to prompt the user to enter an item to remove from the list.\n",
    "viii. If the user selects 'view', use a for loop to iterate through the list of items and display them to the user.\n",
    "ix. Use the list, tuple, set, and dictionary data structures to store and manipulate the shopping items."
   ]
  },
  {
   "cell_type": "code",
   "execution_count": 7,
   "id": "4157e042-b2d7-4bb3-aeff-8ff0922b575b",
   "metadata": {},
   "outputs": [],
   "source": [
    "def shop_menu():\n",
    "    shopping_list = []\n",
    "\n",
    "    while True:\n",
    "        print(\"\\nShopping List Menu:\")\n",
    "        print(\"1. Add product\")\n",
    "        print(\"2. Remove product\")\n",
    "        print(\"3. View list\")\n",
    "        print(\"4. Exit\")\n",
    "\n",
    "        menu_option = input(\"Select Option: \")\n",
    "\n",
    "        if menu_option == \"1\":\n",
    "            add_product(shopping_list)\n",
    "        elif menu_option == \"2\":\n",
    "            remove_product(shopping_list)\n",
    "        elif menu_option == \"3\":\n",
    "            view_list(shopping_list)\n",
    "        elif menu_option == \"4\":\n",
    "            print(\"Exiting program.\")\n",
    "            break\n",
    "        else:\n",
    "            print(\"Invalid menu option. Please try again.\")\n",
    "\n",
    "\n",
    "def add_product(shopping_list):\n",
    "    if len(shopping_list) >= 5:\n",
    "        print(\"You can only add up to 5 products.\")\n",
    "        return\n",
    "\n",
    "    product = input(\"Enter product to add: \")\n",
    "    shopping_list.append(product)\n",
    "    print(f\"{product} added to the shopping list.\")\n",
    "\n",
    "\n",
    "def remove_product(shopping_list):\n",
    "    if not shopping_list:\n",
    "        print(\"Shopping list is empty.\")\n",
    "        return\n",
    "\n",
    "    print(\"Current shopping list:\")\n",
    "    view_list(shopping_list)\n",
    "\n",
    "    product = input(\"Enter product to remove: \")\n",
    "    if product in shopping_list:\n",
    "        shopping_list.remove(product)\n",
    "        print(f\"{product} removed from the shopping list.\")\n",
    "    else:\n",
    "        print(f\"{product} not found in the shopping list.\")\n",
    "\n",
    "\n",
    "def view_list(shopping_list):\n",
    "    if not shopping_list:\n",
    "        print(\"Shopping list is empty.\")\n",
    "        return\n",
    "\n",
    "    print(\"Current shopping list:\")\n",
    "    for index, product in enumerate(shopping_list, start=1):\n",
    "        print(f\"{index}. {product}\")\n",
    "\n",
    "\n",
    "\n"
   ]
  },
  {
   "cell_type": "code",
   "execution_count": 8,
   "id": "c8bab28d-3767-45e1-90ca-dab9adae1a0a",
   "metadata": {},
   "outputs": [
    {
     "name": "stdout",
     "output_type": "stream",
     "text": [
      "\n",
      "Shopping List Menu:\n",
      "1. Add product\n",
      "2. Remove product\n",
      "3. View list\n",
      "4. Exit\n"
     ]
    },
    {
     "name": "stdin",
     "output_type": "stream",
     "text": [
      "Select Option:  1\n",
      "Enter product to add:  zipties\n"
     ]
    },
    {
     "name": "stdout",
     "output_type": "stream",
     "text": [
      "zipties added to the shopping list.\n",
      "\n",
      "Shopping List Menu:\n",
      "1. Add product\n",
      "2. Remove product\n",
      "3. View list\n",
      "4. Exit\n"
     ]
    },
    {
     "name": "stdin",
     "output_type": "stream",
     "text": [
      "Select Option:  Bleach\n"
     ]
    },
    {
     "name": "stdout",
     "output_type": "stream",
     "text": [
      "Invalid menu option. Please try again.\n",
      "\n",
      "Shopping List Menu:\n",
      "1. Add product\n",
      "2. Remove product\n",
      "3. View list\n",
      "4. Exit\n"
     ]
    },
    {
     "name": "stdin",
     "output_type": "stream",
     "text": [
      "Select Option:  1\n",
      "Enter product to add:  Bleach\n"
     ]
    },
    {
     "name": "stdout",
     "output_type": "stream",
     "text": [
      "Bleach added to the shopping list.\n",
      "\n",
      "Shopping List Menu:\n",
      "1. Add product\n",
      "2. Remove product\n",
      "3. View list\n",
      "4. Exit\n"
     ]
    },
    {
     "name": "stdin",
     "output_type": "stream",
     "text": [
      "Select Option:  3\n"
     ]
    },
    {
     "name": "stdout",
     "output_type": "stream",
     "text": [
      "Current shopping list:\n",
      "1. zipties\n",
      "2. Bleach\n",
      "\n",
      "Shopping List Menu:\n",
      "1. Add product\n",
      "2. Remove product\n",
      "3. View list\n",
      "4. Exit\n"
     ]
    },
    {
     "name": "stdin",
     "output_type": "stream",
     "text": [
      "Select Option:  4\n"
     ]
    },
    {
     "name": "stdout",
     "output_type": "stream",
     "text": [
      "Exiting program.\n"
     ]
    }
   ],
   "source": [
    "shop_menu()"
   ]
  },
  {
   "cell_type": "code",
   "execution_count": null,
   "id": "7e25215b-259c-4dea-b76e-e9474413fea2",
   "metadata": {},
   "outputs": [],
   "source": []
  }
 ],
 "metadata": {
  "kernelspec": {
   "display_name": "Python 3 (ipykernel)",
   "language": "python",
   "name": "python3"
  },
  "language_info": {
   "codemirror_mode": {
    "name": "ipython",
    "version": 3
   },
   "file_extension": ".py",
   "mimetype": "text/x-python",
   "name": "python",
   "nbconvert_exporter": "python",
   "pygments_lexer": "ipython3",
   "version": "3.11.7"
  }
 },
 "nbformat": 4,
 "nbformat_minor": 5
}
