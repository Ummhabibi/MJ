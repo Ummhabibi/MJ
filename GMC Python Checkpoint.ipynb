{
 "cells": [
  {
   "cell_type": "markdown",
   "id": "3edd1a86-6094-4731-8ccc-b49d1aefec49",
   "metadata": {},
   "source": [
    "Congratulations, you've got a job at Python Pizza. Your first job is to build an automatic pizza order program. Based on a user's order, work out their final bill.\r\n",
    "\r\n",
    " ``` Small Pizza: $15 ``` ``` \r\n",
    "\r\n",
    "``` Medium Pizza: $20 ``` \r\n",
    "\r\n",
    "``` Large Pizza: $25 ``` \r\n",
    "\r\n",
    "If they want to add pepperoni :\r\n",
    "\r\n",
    "``` Pepperoni for Small Pizza: +$2 ``` \r\n",
    "\r\n",
    "``` Pepperoni for Medium or Large Pizza: +$3 ```\r\n",
    "\r\n",
    "If they want cheese :\r\n",
    "\r\n",
    " ``` Extra cheese for any size pizza: + $1 ```"
   ]
  },
  {
   "cell_type": "markdown",
   "id": "bd88b567-fc13-4937-8585-0370d6e43b1d",
   "metadata": {},
   "source": [
    "Follow These Steps\r\n",
    "Open a new file in your Python development environment or IDE.\r\n",
    "Begin by typing the line 'Welcome to Python Pizza Deliveries' which will display a welcome message when the code is run.\r\n",
    "Add a line that prompts the user for the size of the pizza they want using the input() function and stores the user's input in a variable named 'size'.\r\n",
    "Add a line that prompts the user if they want pepperoni on their pizza using the input() function and stores the user's input in a variable named 'add_pepperoni'.\r\n",
    "Add a line that prompts the user if they want extra cheese on their pizza using the input() function and stores the user's input in a variable named 'extra_cheese'.\r\n",
    "Check your code for any syntax errors or mistakes.\r\n",
    "Run the code and test it by providing inputs for size, pepperoni, and extra cheese.\r\n",
    "Example Input\r\n",
    "\r\n",
    "size = \"L\"\r\n",
    "\r\n",
    "add_pepperoni = \"Y\"\r\n",
    "\r\n",
    "extra_cheese = \"N\"\r\n",
    "\r\n",
    "Example Output\r\n",
    "\r\n",
    "Your final bill is: $28.\r\n",
    "\r\n"
   ]
  },
  {
   "cell_type": "code",
   "execution_count": 11,
   "id": "9468a77f-6b74-4c3d-8f8a-b6956712a788",
   "metadata": {},
   "outputs": [
    {
     "name": "stdout",
     "output_type": "stream",
     "text": [
      "WELCOME TO PYTHON PIZZA DELIVERIES!\n",
      "\n"
     ]
    },
    {
     "name": "stdin",
     "output_type": "stream",
     "text": [
      "Select Pizza Size: Type L for large; M: Medium; S: Small\n",
      " L\n"
     ]
    },
    {
     "name": "stdout",
     "output_type": "stream",
     "text": [
      " \n"
     ]
    },
    {
     "name": "stdin",
     "output_type": "stream",
     "text": [
      "To Add Pepperoni: Type Y for yes; or N for no\n",
      " N\n"
     ]
    },
    {
     "name": "stdout",
     "output_type": "stream",
     "text": [
      " \n"
     ]
    },
    {
     "name": "stdin",
     "output_type": "stream",
     "text": [
      "Extra Cheesy Pizza? Type Y for yes; or N for no\n",
      " Y\n"
     ]
    },
    {
     "name": "stdout",
     "output_type": "stream",
     "text": [
      " \n",
      "Total Bill: $26\n"
     ]
    }
   ],
   "source": [
    "print('WELCOME TO PYTHON PIZZA DELIVERIES!\\n')\n",
    "size = input('Select Pizza Size: Type L for large; M: Medium; S: Small\\n')\n",
    "print(\" \")\n",
    "pepperoni = input ('To Add Pepperoni: Type Y for yes; or N for no\\n')\n",
    "print(\" \")\n",
    "extra_cheese = input('Extra Cheesy Pizza? Type Y for yes; or N for no\\n')\n",
    "print(\" \")\n",
    "bill = 0\n",
    "\n",
    "if size == 'L':\n",
    "    bill += 25\n",
    "elif size == 'M':\n",
    "    bill += 20\n",
    "elif size == 'S':\n",
    "    bill += 15\n",
    "\n",
    "if pepperoni == 'Y' and size == 'S':\n",
    "    bill += 2\n",
    "elif pepperoni == 'Y' and ( size == 'M' or 'L'):\n",
    "    bill += 3\n",
    "\n",
    "if extra_cheese == 'Y':\n",
    "    bill += 1\n",
    "\n",
    "print(f'Total Bill: ${bill}')\n",
    "\n",
    "    \n",
    "\n",
    "\n",
    "\n"
   ]
  }
 ],
 "metadata": {
  "kernelspec": {
   "display_name": "Python 3 (ipykernel)",
   "language": "python",
   "name": "python3"
  },
  "language_info": {
   "codemirror_mode": {
    "name": "ipython",
    "version": 3
   },
   "file_extension": ".py",
   "mimetype": "text/x-python",
   "name": "python",
   "nbconvert_exporter": "python",
   "pygments_lexer": "ipython3",
   "version": "3.11.7"
  }
 },
 "nbformat": 4,
 "nbformat_minor": 5
}
